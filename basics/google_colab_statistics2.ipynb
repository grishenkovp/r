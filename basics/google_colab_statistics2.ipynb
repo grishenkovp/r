{
  "nbformat": 4,
  "nbformat_minor": 0,
  "metadata": {
    "colab": {
      "name": "google_colab_statistics2.ipynb",
      "provenance": [],
      "collapsed_sections": []
    },
    "kernelspec": {
      "name": "ir",
      "display_name": "R"
    }
  },
  "cells": [
    {
      "cell_type": "markdown",
      "metadata": {
        "id": "55C63pB8Va-v"
      },
      "source": [
        "# Классические методы и критерии статистики"
      ]
    },
    {
      "cell_type": "markdown",
      "metadata": {
        "id": "udKXx2oGVa0n"
      },
      "source": [
        "## Гипотеза о равенстве средних двух генеральных совокупностей"
      ]
    },
    {
      "cell_type": "markdown",
      "metadata": {
        "id": "YbwkC7WaWc5A"
      },
      "source": [
        "### Тест Шапиро-Уилка"
      ]
    },
    {
      "cell_type": "code",
      "metadata": {
        "colab": {
          "base_uri": "https://localhost:8080/",
          "height": 522
        },
        "id": "Ii2khqlvWcha",
        "outputId": "d013eac1-d796-4893-efd5-4254b1f193e0"
      },
      "source": [
        "d.intake <- c(5260,5470,5640,6180,6390,6515,6805,7515,7515,8230,8770)\r\n",
        "shapiro.test(d.intake)\r\n",
        "hist(d.intake)"
      ],
      "execution_count": null,
      "outputs": [
        {
          "output_type": "display_data",
          "data": {
            "text/plain": [
              "\n",
              "\tShapiro-Wilk normality test\n",
              "\n",
              "data:  d.intake\n",
              "W = 0.95237, p-value = 0.6743\n"
            ]
          },
          "metadata": {
            "tags": []
          }
        },
        {
          "output_type": "display_data",
          "data": {
            "image/png": "[encoded data removed]",
            "text/plain": [
              "Plot with title “Histogram of d.intake”"
            ]
          },
          "metadata": {
            "tags": [],
            "image/png": {
              "width": 420,
              "height": 420
            }
          }
        }
      ]
    },
    {
      "cell_type": "markdown",
      "metadata": {
        "id": "r113CVjVVag3"
      },
      "source": [
        "### Одновыборочный t-критерий"
      ]
    },
    {
      "cell_type": "code",
      "metadata": {
        "id": "KNzQMRm3VAY1"
      },
      "source": [
        "d.intake <- c(5260,5470,5640,6180,6390,6515,6805,7515,7515,8230,8770)"
      ],
      "execution_count": null,
      "outputs": []
    },
    {
      "cell_type": "code",
      "metadata": {
        "colab": {
          "base_uri": "https://localhost:8080/",
          "height": 34
        },
        "id": "G6aBXinrWIpP",
        "outputId": "eef2e764-6036-4082-edf0-1006661837ec"
      },
      "source": [
        "# среднее \r\n",
        "mean(d.intake)"
      ],
      "execution_count": null,
      "outputs": [
        {
          "output_type": "display_data",
          "data": {
            "text/plain": [
              "[1] 6753.636"
            ],
            "text/latex": "6753.63636363636",
            "text/markdown": "6753.63636363636",
            "text/html": [
              "6753.63636363636"
            ]
          },
          "metadata": {
            "tags": []
          }
        }
      ]
    },
    {
      "cell_type": "code",
      "metadata": {
        "colab": {
          "base_uri": "https://localhost:8080/",
          "height": 204
        },
        "id": "1GVeDR-dWZgu",
        "outputId": "aab56346-6bdb-4adb-fc87-75372cd7b817"
      },
      "source": [
        "# Отличается ли это выборочное среднее значение от установленной нормы 7725?\r\n",
        "t.test(d.intake, mu=7725)"
      ],
      "execution_count": null,
      "outputs": [
        {
          "output_type": "display_data",
          "data": {
            "text/plain": [
              "\n",
              "\tOne Sample t-test\n",
              "\n",
              "data:  d.intake\n",
              "t = -2.8208, df = 10, p-value = 0.01814\n",
              "alternative hypothesis: true mean is not equal to 7725\n",
              "95 percent confidence interval:\n",
              " 5986.348 7520.925\n",
              "sample estimates:\n",
              "mean of x \n",
              " 6753.636 \n"
            ]
          },
          "metadata": {
            "tags": []
          }
        }
      ]
    },
    {
      "cell_type": "code",
      "metadata": {
        "id": "p-OpLLnOXJWF"
      },
      "source": [
        "# Вероятность получить такое (либо большее) значение t при условии, что проверяемая нулевая гипотеза верна, оказалась весьма мала.\r\n",
        "# Следовательно, мы можем отклонить проверяемую нулевую гипотезу о равенстве выборочного среднего значения нормативу и принять альтернативную гипотезу.\r\n",
        "# Принимая это предположение, мы рискуем ошибиться с вероятностью менее 5%."
      ],
      "execution_count": null,
      "outputs": []
    },
    {
      "cell_type": "markdown",
      "metadata": {
        "id": "PbHqy8rmYQ7P"
      },
      "source": [
        "### Сравнение двух независимых выборок"
      ]
    },
    {
      "cell_type": "code",
      "metadata": {
        "colab": {
          "base_uri": "https://localhost:8080/",
          "height": 255
        },
        "id": "eDdGmKA9X-Ks",
        "outputId": "f35753cc-23eb-4953-8c08-0d9a6f462a18"
      },
      "source": [
        "# При сравнении двух выборок проверяемая нулевая гипотеза состоит в том, что обе эти выборки происходят из нормально распределенных\r\n",
        "# генеральных совокупностей с одинаковыми средними значениями.\r\n",
        "install.packages(\"ISwR\")\r\n",
        "library(ISwR)\r\n",
        "data(energy)\r\n",
        "attach(energy)\r\n",
        "head(energy)"
      ],
      "execution_count": null,
      "outputs": [
        {
          "output_type": "stream",
          "text": [
            "Installing package into ‘/usr/local/lib/R/site-library’\n",
            "(as ‘lib’ is unspecified)\n",
            "\n"
          ],
          "name": "stderr"
        },
        {
          "output_type": "display_data",
          "data": {
            "text/plain": [
              "  expend stature\n",
              "1  9.21  obese  \n",
              "2  7.53  lean   \n",
              "3  7.48  lean   \n",
              "4  8.08  lean   \n",
              "5  8.09  lean   \n",
              "6 10.15  lean   "
            ],
            "text/latex": "A data.frame: 6 × 2\n\\begin{tabular}{r|ll}\n  & expend & stature\\\\\n  & <dbl> & <fct>\\\\\n\\hline\n\t1 &  9.21 & obese\\\\\n\t2 &  7.53 & lean \\\\\n\t3 &  7.48 & lean \\\\\n\t4 &  8.08 & lean \\\\\n\t5 &  8.09 & lean \\\\\n\t6 & 10.15 & lean \\\\\n\\end{tabular}\n",
            "text/markdown": "\nA data.frame: 6 × 2\n\n| <!--/--> | expend &lt;dbl&gt; | stature &lt;fct&gt; |\n|---|---|---|\n| 1 |  9.21 | obese |\n| 2 |  7.53 | lean  |\n| 3 |  7.48 | lean  |\n| 4 |  8.08 | lean  |\n| 5 |  8.09 | lean  |\n| 6 | 10.15 | lean  |\n\n",
            "text/html": [
              "<table>\n",
              "<caption>A data.frame: 6 × 2</caption>\n",
              "<thead>\n",
              "\t<tr><th></th><th scope=col>expend</th><th scope=col>stature</th></tr>\n",
              "\t<tr><th></th><th scope=col>&lt;dbl&gt;</th><th scope=col>&lt;fct&gt;</th></tr>\n",
              "</thead>\n",
              "<tbody>\n",
              "\t<tr><th scope=row>1</th><td> 9.21</td><td>obese</td></tr>\n",
              "\t<tr><th scope=row>2</th><td> 7.53</td><td>lean </td></tr>\n",
              "\t<tr><th scope=row>3</th><td> 7.48</td><td>lean </td></tr>\n",
              "\t<tr><th scope=row>4</th><td> 8.08</td><td>lean </td></tr>\n",
              "\t<tr><th scope=row>5</th><td> 8.09</td><td>lean </td></tr>\n",
              "\t<tr><th scope=row>6</th><td>10.15</td><td>lean </td></tr>\n",
              "</tbody>\n",
              "</table>\n"
            ]
          },
          "metadata": {
            "tags": []
          }
        }
      ]
    },
    {
      "cell_type": "code",
      "metadata": {
        "colab": {
          "base_uri": "https://localhost:8080/",
          "height": 34
        },
        "id": "nTAXNFzuZzjn",
        "outputId": "8af80136-b40a-4ac2-f4c8-8b111457be2c"
      },
      "source": [
        "# Соответствующие средние значения\r\n",
        "tapply(expend, stature, mean)"
      ],
      "execution_count": null,
      "outputs": [
        {
          "output_type": "display_data",
          "data": {
            "text/plain": [
              "     lean     obese \n",
              " 8.066154 10.297778 "
            ],
            "text/latex": "\\begin{description*}\n\\item[lean] 8.06615384615385\n\\item[obese] 10.2977777777778\n\\end{description*}\n",
            "text/markdown": "lean\n:   8.06615384615385obese\n:   10.2977777777778\n\n",
            "text/html": [
              "<style>\n",
              ".dl-inline {width: auto; margin:0; padding: 0}\n",
              ".dl-inline>dt, .dl-inline>dd {float: none; width: auto; display: inline-block}\n",
              ".dl-inline>dt::after {content: \":\\0020\"; padding-right: .5ex}\n",
              ".dl-inline>dt:not(:first-of-type) {padding-left: .5ex}\n",
              "</style><dl class=dl-inline><dt>lean</dt><dd>8.06615384615385</dd><dt>obese</dt><dd>10.2977777777778</dd></dl>\n"
            ]
          },
          "metadata": {
            "tags": []
          }
        }
      ]
    },
    {
      "cell_type": "code",
      "metadata": {
        "colab": {
          "base_uri": "https://localhost:8080/",
          "height": 204
        },
        "id": "syJcVwM9aBfF",
        "outputId": "ea53d33e-3b37-4e09-c628-455c54469179"
      },
      "source": [
        "# t-test (знак ~ это обозначение зависимости между переменными)\r\n",
        "t.test(expend ~ stature)"
      ],
      "execution_count": null,
      "outputs": [
        {
          "output_type": "display_data",
          "data": {
            "text/plain": [
              "\n",
              "\tWelch Two Sample t-test\n",
              "\n",
              "data:  expend by stature\n",
              "t = -3.8555, df = 15.919, p-value = 0.001411\n",
              "alternative hypothesis: true difference in means is not equal to 0\n",
              "95 percent confidence interval:\n",
              " -3.459167 -1.004081\n",
              "sample estimates:\n",
              " mean in group lean mean in group obese \n",
              "           8.066154           10.297778 \n"
            ]
          },
          "metadata": {
            "tags": []
          }
        }
      ]
    },
    {
      "cell_type": "markdown",
      "metadata": {
        "id": "RuD7gYQ0bmUk"
      },
      "source": [
        "### Сравнение двух зависимых выборок"
      ]
    },
    {
      "cell_type": "code",
      "metadata": {
        "id": "wren4NlNbfXu"
      },
      "source": [
        "# Парный критерий Стьюдента\r\n",
        "# t.test (x, y, paired = TRUE)"
      ],
      "execution_count": null,
      "outputs": []
    },
    {
      "cell_type": "markdown",
      "metadata": {
        "id": "5Waa0ow6cD_P"
      },
      "source": [
        "## Использование рангового критерия Уилкоксона-Манна-Уитни"
      ]
    },
    {
      "cell_type": "markdown",
      "metadata": {
        "id": "lku8ZqXlcdmt"
      },
      "source": [
        "### Одновыборочный критерий Уилкоксона"
      ]
    },
    {
      "cell_type": "code",
      "metadata": {
        "id": "5kWd1vDtb7Jc"
      },
      "source": [
        "d.intake <- c(5260, 5470, 5640, 6180, 6390, 6515, 6805, 7515, 7515, 8230, 8770)"
      ],
      "execution_count": null,
      "outputs": []
    },
    {
      "cell_type": "code",
      "metadata": {
        "colab": {
          "base_uri": "https://localhost:8080/",
          "height": 153
        },
        "id": "mYATAxtOeLNj",
        "outputId": "f14aeace-8e78-4f87-f9f1-ec496f774893"
      },
      "source": [
        "wilcox.test(d.intake, mu = 7725)"
      ],
      "execution_count": null,
      "outputs": [
        {
          "output_type": "stream",
          "text": [
            "Warning message in wilcox.test.default(d.intake, mu = 7725):\n",
            "“cannot compute exact p-value with ties”\n"
          ],
          "name": "stderr"
        },
        {
          "output_type": "display_data",
          "data": {
            "text/plain": [
              "\n",
              "\tWilcoxon signed rank test with continuity correction\n",
              "\n",
              "data:  d.intake\n",
              "V = 8, p-value = 0.0293\n",
              "alternative hypothesis: true location is not equal to 7725\n"
            ]
          },
          "metadata": {
            "tags": []
          }
        }
      ]
    },
    {
      "cell_type": "markdown",
      "metadata": {
        "id": "zdb6Tp_fezt-"
      },
      "source": [
        "### Сравнение двух независимых выборок"
      ]
    },
    {
      "cell_type": "code",
      "metadata": {
        "colab": {
          "base_uri": "https://localhost:8080/"
        },
        "id": "Zv_4tDhsetUb",
        "outputId": "e182e7c8-3e4b-415a-b1c2-728997286a8b"
      },
      "source": [
        "data (energy)\r\n",
        "attach (energy)\r\n",
        "str(energy)"
      ],
      "execution_count": null,
      "outputs": [
        {
          "output_type": "stream",
          "text": [
            "The following objects are masked from energy (pos = 3):\n",
            "\n",
            "    expend, stature\n",
            "\n",
            "\n"
          ],
          "name": "stderr"
        },
        {
          "output_type": "stream",
          "text": [
            "'data.frame':\t22 obs. of  2 variables:\n",
            " $ expend : num  9.21 7.53 7.48 8.08 8.09 ...\n",
            " $ stature: Factor w/ 2 levels \"lean\",\"obese\": 2 1 1 1 1 1 1 1 1 1 ...\n"
          ],
          "name": "stdout"
        }
      ]
    },
    {
      "cell_type": "code",
      "metadata": {
        "colab": {
          "base_uri": "https://localhost:8080/",
          "height": 153
        },
        "id": "laIFCDfbfIzj",
        "outputId": "11ae8eb5-ff3b-4f7b-b877-1053cf577e24"
      },
      "source": [
        "# Отвергаем нулевую гипотезу о равенстве средних\r\n",
        "wilcox.test (expend ~ stature, paired = FALSE)"
      ],
      "execution_count": null,
      "outputs": [
        {
          "output_type": "stream",
          "text": [
            "Warning message in wilcox.test.default(x = c(7.53, 7.48, 8.08, 8.09, 10.15, 8.4, :\n",
            "“cannot compute exact p-value with ties”\n"
          ],
          "name": "stderr"
        },
        {
          "output_type": "display_data",
          "data": {
            "text/plain": [
              "\n",
              "\tWilcoxon rank sum test with continuity correction\n",
              "\n",
              "data:  expend by stature\n",
              "W = 12, p-value = 0.002122\n",
              "alternative hypothesis: true location shift is not equal to 0\n"
            ]
          },
          "metadata": {
            "tags": []
          }
        }
      ]
    },
    {
      "cell_type": "markdown",
      "metadata": {
        "id": "U4j4QUNXfmDr"
      },
      "source": [
        "### Сравнение двух независимых выборок"
      ]
    },
    {
      "cell_type": "code",
      "metadata": {
        "id": "altivSGyftl7"
      },
      "source": [
        "# wilcox.test(x, y, paired = TRUE )"
      ],
      "execution_count": null,
      "outputs": []
    },
    {
      "cell_type": "markdown",
      "metadata": {
        "id": "5bq7eKlOhrAh"
      },
      "source": [
        "## Гипотеза об однородности дисперсии"
      ]
    },
    {
      "cell_type": "code",
      "metadata": {
        "id": "ZHm5MYmQhx_b",
        "colab": {
          "base_uri": "https://localhost:8080/",
          "height": 204
        },
        "outputId": "48458747-76b6-4b9e-b771-4a0f6438aa12"
      },
      "source": [
        "# F-критерий Фишера\r\n",
        "data(energy, package=\"ISwR\")\r\n",
        "attach (energy)\r\n",
        "colnames(energy)"
      ],
      "execution_count": null,
      "outputs": [
        {
          "output_type": "stream",
          "text": [
            "The following objects are masked from energy (pos = 3):\n",
            "\n",
            "    expend, stature\n",
            "\n",
            "\n",
            "The following objects are masked from energy (pos = 4):\n",
            "\n",
            "    expend, stature\n",
            "\n",
            "\n"
          ],
          "name": "stderr"
        },
        {
          "output_type": "display_data",
          "data": {
            "text/plain": [
              "[1] \"expend\"  \"stature\""
            ],
            "text/latex": "\\begin{enumerate*}\n\\item 'expend'\n\\item 'stature'\n\\end{enumerate*}\n",
            "text/markdown": "1. 'expend'\n2. 'stature'\n\n\n",
            "text/html": [
              "<style>\n",
              ".list-inline {list-style: none; margin:0; padding: 0}\n",
              ".list-inline>li {display: inline-block}\n",
              ".list-inline>li:not(:last-child)::after {content: \"\\00b7\"; padding: 0 .5ex}\n",
              "</style>\n",
              "<ol class=list-inline><li>'expend'</li><li>'stature'</li></ol>\n"
            ]
          },
          "metadata": {
            "tags": []
          }
        }
      ]
    },
    {
      "cell_type": "code",
      "metadata": {
        "colab": {
          "base_uri": "https://localhost:8080/",
          "height": 204
        },
        "id": "h2_jBAWLGrgS",
        "outputId": "6d19347d-5a9d-4f6f-a366-757a18cd88b4"
      },
      "source": [
        "var.test(expend ~ stature)"
      ],
      "execution_count": null,
      "outputs": [
        {
          "output_type": "display_data",
          "data": {
            "text/plain": [
              "\n",
              "\tF test to compare two variances\n",
              "\n",
              "data:  expend by stature\n",
              "F = 0.78445, num df = 12, denom df = 8, p-value = 0.6797\n",
              "alternative hypothesis: true ratio of variances is not equal to 1\n",
              "95 percent confidence interval:\n",
              " 0.1867876 2.7547991\n",
              "sample estimates:\n",
              "ratio of variances \n",
              "          0.784446 \n"
            ]
          },
          "metadata": {
            "tags": []
          }
        }
      ]
    }
  ]
}
